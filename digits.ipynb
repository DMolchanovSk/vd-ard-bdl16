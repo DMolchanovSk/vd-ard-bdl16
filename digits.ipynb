{
 "cells": [
  {
   "cell_type": "code",
   "execution_count": 2,
   "metadata": {
    "collapsed": false
   },
   "outputs": [],
   "source": [
    "from __future__ import print_function\n",
    "\n",
    "import vdrvc \n",
    "import warnings\n",
    "import numpy as np\n",
    "import matplotlib.pyplot as plt\n",
    "\n",
    "from theano import tensor as T\n",
    "from sklearn.datasets import load_digits\n",
    "from IPython.display import clear_output as cls\n",
    "from sklearn.metrics import accuracy_score as acc\n",
    "from sklearn.cross_validation import train_test_split\n",
    "\n",
    "%matplotlib inline\n",
    "warnings.simplefilter(\"ignore\")\n",
    "np.random.seed(15632)"
   ]
  },
  {
   "cell_type": "markdown",
   "metadata": {},
   "source": [
    "# Load DIGITS data"
   ]
  },
  {
   "cell_type": "code",
   "execution_count": 3,
   "metadata": {
    "collapsed": true
   },
   "outputs": [],
   "source": [
    "data = load_digits()\n",
    "X = data['images'].reshape(-1, 8*8)\n",
    "t = data['target']\n",
    "X -= np.mean(X, axis=0)\n",
    "\n",
    "X_train, X_test, t_train, t_test = train_test_split(X, t, train_size=1200)"
   ]
  },
  {
   "cell_type": "markdown",
   "metadata": {},
   "source": [
    "# Fit the VD-ARD model (our model)"
   ]
  },
  {
   "cell_type": "code",
   "execution_count": 4,
   "metadata": {
    "collapsed": false,
    "scrolled": false
   },
   "outputs": [
    {
     "name": "stdout",
     "output_type": "stream",
     "text": [
      "iter = 0.0000 vlb = 124447.4784 acc = 0.0867 ard = 0.1125\n",
      "iter = 2500.0000 vlb = 5524.2584 acc = 0.9467 ard = 0.1062\n",
      "iter = 5000.0000 vlb = 1046.4286 acc = 0.9850 ard = 0.1531\n",
      "iter = 7500.0000 vlb = 274.9015 acc = 0.9975 ard = 0.1594\n",
      "iter = 10000.0000 vlb = 183.8823 acc = 1.0000 ard = 0.2016\n",
      "iter = 12500.0000 vlb = 110.1083 acc = 1.0000 ard = 0.2672\n",
      "iter = 15000.0000 vlb = 65.2960 acc = 1.0000 ard = 0.3359\n",
      "iter = 17500.0000 vlb = -14.7746 acc = 1.0000 ard = 0.3875\n",
      "iter = 20000.0000 vlb = -57.4132 acc = 1.0000 ard = 0.4562\n",
      "iter = 22500.0000 vlb = -51.1340 acc = 1.0000 ard = 0.5312\n",
      "iter = 25000.0000 vlb = -38.6811 acc = 1.0000 ard = 0.5422\n",
      "iter = 27500.0000 vlb = -65.6178 acc = 1.0000 ard = 0.6219\n",
      "iter = 30000.0000 vlb = -117.4448 acc = 1.0000 ard = 0.6203\n",
      "iter = 32500.0000 vlb = -110.7357 acc = 1.0000 ard = 0.6562\n",
      "iter = 35000.0000 vlb = -100.1785 acc = 1.0000 ard = 0.6453\n",
      "iter = 37500.0000 vlb = -116.7272 acc = 1.0000 ard = 0.6656\n",
      "iter = 40000.0000 vlb = -136.4987 acc = 1.0000 ard = 0.7312\n",
      "iter = 42500.0000 vlb = -114.3388 acc = 1.0000 ard = 0.7328\n",
      "iter = 45000.0000 vlb = -130.1319 acc = 1.0000 ard = 0.7266\n",
      "iter = 47500.0000 vlb = -109.6033 acc = 1.0000 ard = 0.6750\n",
      "iter = 50000.0000 vlb = -118.9268 acc = 1.0000 ard = 0.7641\n",
      "iter = 52500.0000 vlb = -124.1580 acc = 1.0000 ard = 0.7344\n",
      "iter = 55000.0000 vlb = -128.7080 acc = 1.0000 ard = 0.7438\n",
      "iter = 57500.0000 vlb = -143.8302 acc = 1.0000 ard = 0.7516\n",
      "iter = 60000.0000 vlb = -132.6047 acc = 1.0000 ard = 0.7297\n",
      "iter = 62500.0000 vlb = -148.0454 acc = 1.0000 ard = 0.7531\n",
      "iter = 65000.0000 vlb = -128.4205 acc = 1.0000 ard = 0.7391\n",
      "iter = 67500.0000 vlb = -145.4890 acc = 1.0000 ard = 0.7734\n",
      "iter = 70000.0000 vlb = -148.1628 acc = 1.0000 ard = 0.7891\n",
      "iter = 72500.0000 vlb = -151.0663 acc = 1.0000 ard = 0.7734\n",
      "iter = 75000.0000 vlb = -143.7551 acc = 1.0000 ard = 0.7406\n",
      "iter = 77500.0000 vlb = -144.2438 acc = 1.0000 ard = 0.7484\n",
      "iter = 80000.0000 vlb = -112.0231 acc = 1.0000 ard = 0.7734\n",
      "iter = 82500.0000 vlb = -140.4845 acc = 1.0000 ard = 0.7719\n",
      "iter = 85000.0000 vlb = -124.8804 acc = 1.0000 ard = 0.7828\n",
      "iter = 87500.0000 vlb = -147.5977 acc = 1.0000 ard = 0.7766\n",
      "iter = 90000.0000 vlb = -132.5111 acc = 1.0000 ard = 0.7516\n",
      "iter = 92500.0000 vlb = -148.9926 acc = 1.0000 ard = 0.7656\n",
      "iter = 95000.0000 vlb = -155.0392 acc = 1.0000 ard = 0.7656\n",
      "iter = 97500.0000 vlb = -153.9100 acc = 1.0000 ard = 0.7547\n"
     ]
    }
   ],
   "source": [
    "# Fit the VD-ARD model\n",
    "vd = vdrvc.vdrvc()\n",
    "vd = vd.fit(X_train, t_train, num_classes=10, batch_size=X_train.shape[0], max_iter=100000,\n",
    "            lr=1e-3, beta=0.9, display_each=2500)"
   ]
  },
  {
   "cell_type": "code",
   "execution_count": 5,
   "metadata": {
    "collapsed": false
   },
   "outputs": [
    {
     "name": "stdout",
     "output_type": "stream",
     "text": [
      "sparsity level: 0.7547\n",
      "train accuracy: 1.0000\n",
      "test accuracy:  0.9481\n"
     ]
    }
   ],
   "source": [
    "# Remove features with dropout rate p > 0.99 ~ log_alpha > 5\n",
    "ard = np.sum(vd.log_alpha > 5)\n",
    "vd.theta_old = vd.theta.copy()\n",
    "vd.theta[vd.log_alpha > 5] = 0\n",
    "# Accuracy score\n",
    "trainp, testp = acc(vd.predict(X_train), t_train), acc(vd.predict(X_test), t_test) \n",
    "\n",
    "print('sparsity level: %0.4f' % (ard * 1.0 / vd.theta.size))\n",
    "print('train accuracy: %0.4f' % trainp)\n",
    "print('test accuracy:  %0.4f' % testp)"
   ]
  },
  {
   "cell_type": "markdown",
   "metadata": {},
   "source": [
    "# L1 logistic regression"
   ]
  },
  {
   "cell_type": "code",
   "execution_count": 6,
   "metadata": {
    "collapsed": false
   },
   "outputs": [
    {
     "name": "stdout",
     "output_type": "stream",
     "text": [
      "sparsity level: 0.3797\n",
      "train accuracy: 0.9925\n",
      "test accuracy:  0.9548\n"
     ]
    }
   ],
   "source": [
    "from sklearn.linear_model import LogisticRegressionCV as LR\n",
    "\n",
    "# Train L1 logistic regression with cross-validation \n",
    "lr = LR(penalty='l1', verbose=3, solver='liblinear', max_iter=1000, n_jobs=2).fit(X_train, t_train)\n",
    "\n",
    "ard = np.sum(lr.coef_ == 0)\n",
    "trainp, testp = acc(lr.predict(X_train), t_train), acc(lr.predict(X_test), t_test) \n",
    "cls()\n",
    "print('sparsity level: %0.4f' % (ard * 1.0 / lr.coef_.size))\n",
    "print('train accuracy: %0.4f' % trainp)\n",
    "print('test accuracy:  %0.4f' % testp)"
   ]
  },
  {
   "cell_type": "markdown",
   "metadata": {},
   "source": [
    "# RVM"
   ]
  },
  {
   "cell_type": "code",
   "execution_count": 9,
   "metadata": {
    "collapsed": false
   },
   "outputs": [
    {
     "name": "stdout",
     "output_type": "stream",
     "text": [
      "sparsity level: 0.7469\n",
      "train accuracy: 0.9783\n",
      "test accuracy:  0.9447\n"
     ]
    }
   ],
   "source": [
    "from skbayes.rvm_ard_models.fast_rvm import ClassificationARD\n",
    "# https://github.com/AmazaspShumik/sklearn-bayes\n",
    "\n",
    "rvm = ClassificationARD().fit(X_train, t_train)\n",
    "\n",
    "ard = np.array(rvm.active_).size - np.sum(rvm.active_)\n",
    "trainp, testp = acc(rvm.predict(X_train), t_train), acc(rvm.predict(X_test), t_test) \n",
    "print('sparsity level: %0.4f' % (ard * 1.0 / np.array(rvm.active_).size))\n",
    "print('train accuracy: %0.4f' % trainp)\n",
    "print('test accuracy:  %0.4f' % testp)"
   ]
  },
  {
   "cell_type": "code",
   "execution_count": null,
   "metadata": {
    "collapsed": true
   },
   "outputs": [],
   "source": []
  }
 ],
 "metadata": {
  "anaconda-cloud": {},
  "kernelspec": {
   "display_name": "Python 2",
   "language": "python",
   "name": "python2"
  },
  "language_info": {
   "codemirror_mode": {
    "name": "ipython",
    "version": 2
   },
   "file_extension": ".py",
   "mimetype": "text/x-python",
   "name": "python",
   "nbconvert_exporter": "python",
   "pygments_lexer": "ipython2",
   "version": "2.7.10"
  }
 },
 "nbformat": 4,
 "nbformat_minor": 0
}
