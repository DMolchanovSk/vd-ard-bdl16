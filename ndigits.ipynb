{
 "cells": [
  {
   "cell_type": "code",
   "execution_count": 2,
   "metadata": {
    "collapsed": false
   },
   "outputs": [],
   "source": [
    "from __future__ import print_function\n",
    "\n",
    "import vdrvc \n",
    "import warnings\n",
    "import numpy as np\n",
    "import matplotlib.pyplot as plt\n",
    "\n",
    "from theano import tensor as T\n",
    "from sklearn.datasets import load_digits\n",
    "from IPython.display import clear_output as cls\n",
    "from sklearn.metrics import accuracy_score as acc\n",
    "from sklearn.cross_validation import train_test_split\n",
    "\n",
    "%matplotlib inline\n",
    "warnings.simplefilter(\"ignore\")\n",
    "np.random.seed(15632)"
   ]
  },
  {
   "cell_type": "code",
   "execution_count": 3,
   "metadata": {
    "collapsed": false
   },
   "outputs": [],
   "source": [
    "data = load_digits()\n",
    "X = data['images'].reshape(-1, 8*8)\n",
    "t = data['target']\n",
    "ww = np.mean(X, axis=0)\n",
    "X -= ww\n",
    "X = np.hstack((X, np.random.randn(X.shape[0], 8*8) * 5))\n",
    "\n",
    "train = np.random.choice(1797, 1200)\n",
    "test = np.setdiff1d(np.arange(1797), train)\n",
    "\n",
    "X_train, X_test = X[train, :], X[test, :]\n",
    "t_train, t_test = t[train], t[test]"
   ]
  },
  {
   "cell_type": "code",
   "execution_count": 4,
   "metadata": {
    "collapsed": false
   },
   "outputs": [
    {
     "data": {
      "text/plain": [
       "<matplotlib.image.AxesImage at 0x1130f65d0>"
      ]
     },
     "execution_count": 4,
     "metadata": {},
     "output_type": "execute_result"
    },
    {
     "data": {
      "image/png": "[encoded data removed]",
      "text/plain": [
       "<matplotlib.figure.Figure at 0x1124ec9d0>"
      ]
     },
     "metadata": {},
     "output_type": "display_data"
    }
   ],
   "source": [
    "plt.imshow(X[11].reshape(16,8), cmap='gray', interpolation='none')"
   ]
  },
  {
   "cell_type": "markdown",
   "metadata": {
    "collapsed": true
   },
   "source": [
    "### Variational-ARD"
   ]
  },
  {
   "cell_type": "code",
   "execution_count": 5,
   "metadata": {
    "collapsed": false,
    "scrolled": false
   },
   "outputs": [
    {
     "name": "stdout",
     "output_type": "stream",
     "text": [
      "iter = 0.0000 vlb = 200853.4716 acc = 0.0917 ard = 0.1086\n",
      "iter = 2500.0000 vlb = 27870.2622 acc = 0.8475 ard = 0.0930\n",
      "iter = 5000.0000 vlb = 4648.6296 acc = 0.9808 ard = 0.0992\n",
      "iter = 7500.0000 vlb = 1345.6438 acc = 0.9967 ard = 0.1070\n",
      "iter = 10000.0000 vlb = 390.0687 acc = 1.0000 ard = 0.1180\n",
      "iter = 12500.0000 vlb = 21.2806 acc = 1.0000 ard = 0.1500\n",
      "iter = 15000.0000 vlb = -73.0863 acc = 1.0000 ard = 0.1773\n",
      "iter = 17500.0000 vlb = -213.1363 acc = 1.0000 ard = 0.2141\n",
      "iter = 20000.0000 vlb = -270.1888 acc = 1.0000 ard = 0.2680\n",
      "iter = 22500.0000 vlb = -303.3728 acc = 1.0000 ard = 0.3242\n",
      "iter = 25000.0000 vlb = -322.5780 acc = 1.0000 ard = 0.3812\n",
      "iter = 27500.0000 vlb = -346.2483 acc = 1.0000 ard = 0.4320\n",
      "iter = 30000.0000 vlb = -416.9233 acc = 1.0000 ard = 0.4836\n",
      "iter = 32500.0000 vlb = -378.7443 acc = 1.0000 ard = 0.5211\n",
      "iter = 35000.0000 vlb = -443.4480 acc = 1.0000 ard = 0.5547\n",
      "iter = 37500.0000 vlb = -447.7332 acc = 1.0000 ard = 0.5813\n",
      "iter = 40000.0000 vlb = -398.7002 acc = 1.0000 ard = 0.6141\n",
      "iter = 42500.0000 vlb = -479.0425 acc = 1.0000 ard = 0.6297\n",
      "iter = 45000.0000 vlb = -486.4400 acc = 1.0000 ard = 0.6516\n",
      "iter = 47500.0000 vlb = -490.7018 acc = 1.0000 ard = 0.6680\n",
      "iter = 50000.0000 vlb = -510.1562 acc = 1.0000 ard = 0.6906\n",
      "iter = 52500.0000 vlb = -475.1431 acc = 1.0000 ard = 0.6937\n",
      "iter = 55000.0000 vlb = -471.2589 acc = 1.0000 ard = 0.7234\n",
      "iter = 57500.0000 vlb = -511.0212 acc = 1.0000 ard = 0.7188\n",
      "iter = 60000.0000 vlb = -537.4139 acc = 1.0000 ard = 0.7391\n",
      "iter = 62500.0000 vlb = -492.8006 acc = 1.0000 ard = 0.7547\n",
      "iter = 65000.0000 vlb = -537.4449 acc = 1.0000 ard = 0.7586\n",
      "iter = 67500.0000 vlb = -547.6728 acc = 1.0000 ard = 0.7688\n",
      "iter = 70000.0000 vlb = -550.6091 acc = 1.0000 ard = 0.7867\n",
      "iter = 72500.0000 vlb = -568.1324 acc = 1.0000 ard = 0.7867\n",
      "iter = 75000.0000 vlb = -559.8921 acc = 1.0000 ard = 0.7945\n",
      "iter = 77500.0000 vlb = -560.2867 acc = 1.0000 ard = 0.7977\n",
      "iter = 80000.0000 vlb = -572.5189 acc = 1.0000 ard = 0.7953\n",
      "iter = 82500.0000 vlb = -557.7154 acc = 1.0000 ard = 0.8211\n",
      "iter = 85000.0000 vlb = -568.4308 acc = 1.0000 ard = 0.8078\n",
      "iter = 87500.0000 vlb = -574.4987 acc = 1.0000 ard = 0.8203\n",
      "iter = 90000.0000 vlb = -584.2292 acc = 1.0000 ard = 0.8273\n",
      "iter = 92500.0000 vlb = -588.8106 acc = 1.0000 ard = 0.8234\n",
      "iter = 95000.0000 vlb = -576.4396 acc = 1.0000 ard = 0.8258\n",
      "iter = 97500.0000 vlb = -589.0602 acc = 1.0000 ard = 0.8430\n",
      "iter = 100000.0000 vlb = -585.2097 acc = 1.0000 ard = 0.8359\n",
      "iter = 102500.0000 vlb = -587.8167 acc = 1.0000 ard = 0.8523\n",
      "iter = 105000.0000 vlb = -575.2978 acc = 1.0000 ard = 0.8398\n",
      "iter = 107500.0000 vlb = -598.0321 acc = 1.0000 ard = 0.8547\n",
      "iter = 110000.0000 vlb = -560.4479 acc = 1.0000 ard = 0.8547\n",
      "iter = 112500.0000 vlb = -574.3764 acc = 1.0000 ard = 0.8594\n",
      "iter = 115000.0000 vlb = -578.5086 acc = 1.0000 ard = 0.8547\n",
      "iter = 117500.0000 vlb = -586.4434 acc = 1.0000 ard = 0.8625\n",
      "iter = 120000.0000 vlb = -576.6553 acc = 1.0000 ard = 0.8703\n",
      "iter = 122500.0000 vlb = -602.9193 acc = 1.0000 ard = 0.8633\n",
      "iter = 125000.0000 vlb = -581.0209 acc = 1.0000 ard = 0.8680\n",
      "iter = 127500.0000 vlb = -603.8786 acc = 1.0000 ard = 0.8773\n",
      "iter = 130000.0000 vlb = -603.8247 acc = 1.0000 ard = 0.8766\n",
      "iter = 132500.0000 vlb = -592.1174 acc = 1.0000 ard = 0.8750\n",
      "iter = 135000.0000 vlb = -599.4232 acc = 1.0000 ard = 0.8664\n",
      "iter = 137500.0000 vlb = -590.8089 acc = 1.0000 ard = 0.8773\n",
      "iter = 140000.0000 vlb = -599.1368 acc = 1.0000 ard = 0.8672\n",
      "iter = 142500.0000 vlb = -602.0400 acc = 1.0000 ard = 0.8734\n",
      "iter = 145000.0000 vlb = -582.8605 acc = 1.0000 ard = 0.8742\n",
      "iter = 147500.0000 vlb = -592.9042 acc = 1.0000 ard = 0.8820\n",
      "iter = 150000.0000 vlb = -602.5997 acc = 1.0000 ard = 0.8789\n",
      "iter = 152500.0000 vlb = -597.4410 acc = 1.0000 ard = 0.8789\n",
      "iter = 155000.0000 vlb = -593.9801 acc = 1.0000 ard = 0.8820\n",
      "iter = 157500.0000 vlb = -606.3809 acc = 1.0000 ard = 0.8750\n",
      "iter = 160000.0000 vlb = -550.6054 acc = 1.0000 ard = 0.8812\n",
      "iter = 162500.0000 vlb = -597.6660 acc = 1.0000 ard = 0.8773\n",
      "iter = 165000.0000 vlb = -595.2940 acc = 1.0000 ard = 0.8836\n",
      "iter = 167500.0000 vlb = -614.6930 acc = 1.0000 ard = 0.8797\n",
      "iter = 170000.0000 vlb = -599.8178 acc = 1.0000 ard = 0.8859\n",
      "iter = 172500.0000 vlb = -612.6324 acc = 1.0000 ard = 0.8859\n",
      "iter = 175000.0000 vlb = -585.0832 acc = 1.0000 ard = 0.8852\n",
      "iter = 177500.0000 vlb = -605.6397 acc = 1.0000 ard = 0.8781\n",
      "iter = 180000.0000 vlb = -610.6552 acc = 1.0000 ard = 0.8805\n",
      "iter = 182500.0000 vlb = -611.2899 acc = 1.0000 ard = 0.8781\n",
      "iter = 185000.0000 vlb = -607.9622 acc = 1.0000 ard = 0.8820\n",
      "iter = 187500.0000 vlb = -602.3825 acc = 1.0000 ard = 0.8812\n",
      "iter = 190000.0000 vlb = -609.0214 acc = 1.0000 ard = 0.8867\n",
      "iter = 192500.0000 vlb = -600.4990 acc = 1.0000 ard = 0.8828\n",
      "iter = 195000.0000 vlb = -614.8368 acc = 1.0000 ard = 0.8906\n",
      "iter = 197500.0000 vlb = -609.0213 acc = 1.0000 ard = 0.8758\n",
      "sparsity level: 0.8758\n",
      "train accuracy: 1.0000\n",
      "test accuracy:  0.9305\n"
     ]
    }
   ],
   "source": [
    "vd = vdrvc.vdrvc()\n",
    "vd = vd.fit(\n",
    "    X_train, t_train, num_classes=10, batch_size=X_train.shape[0], \n",
    "    max_iter=200000, lr=5e-4, beta=0.98, display_each=2500)\n",
    "\n",
    "ard = np.sum(vd.log_alpha > 5)\n",
    "vd.theta[vd.log_alpha > 5] = 0\n",
    "trainp, testp = acc(vd.predict(X_train), t_train), acc(vd.predict(X_test), t_test) \n",
    "\n",
    "print('sparsity level: %0.4f' % (ard * 1.0 / vd.theta.size))\n",
    "print('train accuracy: %0.4f' % trainp)\n",
    "print('test accuracy:  %0.4f' % testp)"
   ]
  },
  {
   "cell_type": "code",
   "execution_count": 6,
   "metadata": {
    "collapsed": false
   },
   "outputs": [
    {
     "data": {
      "text/plain": [
       "(-0.5, 7.5, 15.5, -0.5)"
      ]
     },
     "execution_count": 6,
     "metadata": {},
     "output_type": "execute_result"
    },
    {
     "data": {
      "image/png": "[encoded data removed]",
      "text/plain": [
       "<matplotlib.figure.Figure at 0x114371190>"
      ]
     },
     "metadata": {},
     "output_type": "display_data"
    }
   ],
   "source": [
    "import matplotlib.pylab as pylab\n",
    "params = {'legend.fontsize': 'x-large',\n",
    "         'axes.labelsize': 24,\n",
    "         'axes.titlesize':14,\n",
    "         'xtick.labelsize':14,\n",
    "         'ytick.labelsize':14}\n",
    "pylab.rcParams.update(params)\n",
    "\n",
    "fig, ax = plt.subplots(nrows=2, ncols=5)\n",
    "fig.set_size_inches(6, 3)\n",
    "for i in range(10):\n",
    "    im = ax[i/5, i%5].imshow(vd.log_alpha[i].reshape(16, 8).clip(-5, 5), interpolation='none', cmap='hot_r')\n",
    "    ax[i/5, i%5].axis('off')\n",
    "    ax[i/5, i%5].set_title(str(i))\n",
    "\n",
    "data = load_digits()\n",
    "X_ = data['images'].reshape(-1, 8*8)\n",
    "t_ = data['target']\n",
    "X_ = np.hstack((X_, np.random.randint(0, 16, (X_.shape[0], 8*8))))    \n",
    "    \n",
    "\n",
    "fig.tight_layout(pad=0)\n",
    "fig.subplots_adjust(right=0.8)\n",
    "cbar_ax = fig.add_axes([0.85, 0.15, 0.05, 0.7])\n",
    "cb = fig.colorbar(im, cax=cbar_ax)\n",
    "cb.ax.set_ylabel(r'$\\log a_{ci}$')\n",
    "fig.subplots_adjust(left=0.25)\n",
    "example_ax = fig.add_axes([0.1, 0.15, 0.12, 0.7])\n",
    "example_ax.imshow(X_[4].reshape(16,8), cmap='gray', interpolation='none')\n",
    "example_ax.axis('off')"
   ]
  },
  {
   "cell_type": "markdown",
   "metadata": {},
   "source": [
    "### L1 LogisticRegression"
   ]
  },
  {
   "cell_type": "code",
   "execution_count": 7,
   "metadata": {
    "collapsed": false
   },
   "outputs": [
    {
     "name": "stderr",
     "output_type": "stream",
     "text": [
      "[Parallel(n_jobs=2)]: Done  30 out of  30 | elapsed:    5.4s finished\n"
     ]
    },
    {
     "name": "stdout",
     "output_type": "stream",
     "text": [
      "[LibLinear][LibLinear][LibLinear][LibLinear][LibLinear][LibLinear][LibLinear][LibLinear][LibLinear][LibLinear]sparsity level: 0.5594\n",
      "train accuracy: 0.9942\n",
      "test accuracy:  0.9372\n"
     ]
    }
   ],
   "source": [
    "from sklearn.linear_model import LogisticRegressionCV\n",
    "\n",
    "lr = LogisticRegressionCV(penalty='l1', solver='liblinear', verbose=3, n_jobs=2).fit(X_train, t_train)\n",
    "\n",
    "ard = np.sum(lr.coef_ == 0)\n",
    "trainp, testp = acc(lr.predict(X_train), t_train), acc(lr.predict(X_test), t_test) \n",
    "\n",
    "print('sparsity level: %0.4f' % (ard * 1.0 / lr.coef_.size))\n",
    "print('train accuracy: %0.4f' % trainp)\n",
    "print('test accuracy:  %0.4f' % testp)"
   ]
  },
  {
   "cell_type": "code",
   "execution_count": 8,
   "metadata": {
    "collapsed": false
   },
   "outputs": [
    {
     "data": {
      "text/plain": [
       "<matplotlib.colorbar.Colorbar at 0x11447d910>"
      ]
     },
     "execution_count": 8,
     "metadata": {},
     "output_type": "execute_result"
    },
    {
     "data": {
      "image/png": "[encoded data removed]",
      "text/plain": [
       "<matplotlib.figure.Figure at 0x113ce1410>"
      ]
     },
     "metadata": {},
     "output_type": "display_data"
    }
   ],
   "source": [
    "ax = plt.subplots(2, 5)\n",
    "\n",
    "for i in range(10):\n",
    "    im = ax[1][i/5, i%5].imshow(1-(lr.coef_[i]==0).reshape(16, 8).clip(-5, 5), interpolation='none', cmap='hot_r')\n",
    "    ax[1][i/5, i%5].axis('off')\n",
    "\n",
    "ax[0].colorbar(im)"
   ]
  },
  {
   "cell_type": "markdown",
   "metadata": {},
   "source": [
    "###  Relevance Vector Classifier"
   ]
  },
  {
   "cell_type": "code",
   "execution_count": 13,
   "metadata": {
    "collapsed": false
   },
   "outputs": [],
   "source": [
    "from sklearn.metrics import accuracy_score as acc\n",
    "from skbayes.rvm_ard_models.fast_rvm import ClassificationARD\n",
    "# https://github.com/AmazaspShumik/sklearn-bayes\n",
    "\n",
    "rvm = ClassificationARD().fit(X_train, t_train)"
   ]
  },
  {
   "cell_type": "code",
   "execution_count": 18,
   "metadata": {
    "collapsed": false
   },
   "outputs": [
    {
     "name": "stdout",
     "output_type": "stream",
     "text": [
      "sparsity level: 0.8578\n",
      "train accuracy: 0.9175\n",
      "test accuracy:  0.8467\n"
     ]
    }
   ],
   "source": [
    "ard = np.array(rvm.active_).size - np.sum(rvm.active_)\n",
    "trainp, testp = acc(rvm.predict(X_train), t_train), acc(rvm.predict(X_test), t_test) \n",
    "print('sparsity level: %0.4f' % (ard * 1.0 / np.array(rvm.active_).size))\n",
    "print('train accuracy: %0.4f' % trainp)\n",
    "print('test accuracy:  %0.4f' % testp)"
   ]
  },
  {
   "cell_type": "code",
   "execution_count": 20,
   "metadata": {
    "collapsed": false
   },
   "outputs": [
    {
     "data": {
      "text/plain": [
       "<matplotlib.colorbar.Colorbar at 0x11722ce50>"
      ]
     },
     "execution_count": 20,
     "metadata": {},
     "output_type": "execute_result"
    },
    {
     "data": {
      "image/png": "[encoded data removed]",
      "text/plain": [
       "<matplotlib.figure.Figure at 0x116d3d050>"
      ]
     },
     "metadata": {},
     "output_type": "display_data"
    }
   ],
   "source": [
    "ax = plt.subplots(2, 5)\n",
    "\n",
    "for i in range(10):\n",
    "    im = ax[1][i/5, i%5].imshow(1-rvm.active_[i].reshape(16, 8).clip(-5, 5), interpolation='none', cmap='hot_r')\n",
    "    ax[1][i/5, i%5].axis('off')\n",
    "\n",
    "ax[0].colorbar(im)"
   ]
  },
  {
   "cell_type": "code",
   "execution_count": null,
   "metadata": {
    "collapsed": true
   },
   "outputs": [],
   "source": []
  }
 ],
 "metadata": {
  "anaconda-cloud": {},
  "kernelspec": {
   "display_name": "Python 2",
   "language": "python",
   "name": "python2"
  },
  "language_info": {
   "codemirror_mode": {
    "name": "ipython",
    "version": 2
   },
   "file_extension": ".py",
   "mimetype": "text/x-python",
   "name": "python",
   "nbconvert_exporter": "python",
   "pygments_lexer": "ipython2",
   "version": "2.7.10"
  }
 },
 "nbformat": 4,
 "nbformat_minor": 0
}
